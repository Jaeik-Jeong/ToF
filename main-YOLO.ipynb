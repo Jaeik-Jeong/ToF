{
 "cells": [
  {
   "cell_type": "code",
   "execution_count": null,
   "id": "4893d105-6032-47b1-9730-0f589986421d",
   "metadata": {},
   "outputs": [],
   "source": [
    "import glob\n",
    "import pandas as pd\n",
    "import numpy as np\n",
    "import matplotlib.pyplot as plt\n",
    "import cv2 as cv\n",
    "import copy\n",
    "from ultralytics import YOLO"
   ]
  },
  {
   "cell_type": "code",
   "execution_count": null,
   "id": "aa167e5e-c1d2-429f-971e-7b8602eac7b0",
   "metadata": {},
   "outputs": [],
   "source": [
    "address = \"\"\n",
    "model = YOLO('yolov5su.pt')  # Use a pretrained YOLOv5 model\n",
    "def Tracking(img_address):\n",
    "    all_files = glob.glob(img_address)\n",
    "    img_row_size_org = 670\n",
    "    img_col_size_org = 480\n",
    "    img_row_size = 67\n",
    "    img_col_size = 48\n",
    "    img_size = img_row_size*img_col_size\n",
    "    img_min_x = 15; img_max_x = 40\n",
    "    img_min_y = 0; img_max_y = 50\n",
    "    \n",
    "    conf = 0.3\n",
    "    \n",
    "    img_real = []\n",
    "    img_data = []\n",
    "    lower_orange = np.array([10, 100, 100])\n",
    "    upper_orange = np.array([25, 255, 255])\n",
    "    for i in range(len(all_files)):\n",
    "        img_black = cv.imread(all_files[i], cv.IMREAD_GRAYSCALE)\n",
    "        img_color = cv.imread(all_files[i], cv.IMREAD_COLOR)\n",
    "        img_rgb = cv.resize(cv.cvtColor(img_color, cv.COLOR_BGR2RGB), (img_col_size, img_row_size))[img_min_y:img_max_y,img_min_x:img_max_x,:]\n",
    "        img_hsv = cv.resize(cv.cvtColor(img_color, cv.COLOR_BGR2HSV), (img_col_size, img_row_size))[img_min_y:img_max_y,img_min_x:img_max_x,:]\n",
    "        mask = cv.inRange(img_hsv, lower_orange, upper_orange)\n",
    "        output_image = np.zeros((img_hsv.shape[0], img_hsv.shape[1]), dtype=np.uint8)\n",
    "        output_image[mask > 0] = 255\n",
    "    \n",
    "        img_real += [cv.resize(cv.cvtColor(img_color, cv.COLOR_BGR2RGB), (img_col_size_org, img_row_size_org))]\n",
    "        img_data += [output_image]\n",
    "    \n",
    "    frames = {}; frames[0] = []\n",
    "    similar_boxes = []\n",
    "    fig, axes = plt.subplots(int(len(all_files)/(5.00001))+1, 5, figsize=(15, 5*int(len(all_files)/(5.00001))+1))\n",
    "    axes = axes.flatten()\n",
    "    for f in range(len(all_files)):\n",
    "        # Perform object detection with lowered confidence threshold\n",
    "        results = model(all_files[f], conf=conf)\n",
    "        \n",
    "        # Visualization\n",
    "        ax1 = axes[f]\n",
    "        ax1.imshow(img_real[f], extent=(0, img_col_size_org, img_row_size_org, 0), aspect='auto', alpha=0.3)\n",
    "        ax1.set_aspect('auto')\n",
    "        ax1.set_xlim(0, img_col_size_org)\n",
    "        ax1.set_ylim(img_col_size_org, 0)\n",
    "        ax2 = ax1.twinx().twiny()\n",
    "        ax2.set_xlim(0, img_col_size)\n",
    "        ax2.set_ylim(0, img_col_size)\n",
    "        ax1.axes.xaxis.set_visible(False)\n",
    "        ax1.axes.yaxis.set_visible(False)\n",
    "        ax2.axes.xaxis.set_visible(False)\n",
    "        ax2.axes.yaxis.set_visible(False)\n",
    "        ax2.yaxis.set_ticks([])\n",
    "        ax2.spines['right'].set_visible(False)\n",
    "        plt.tight_layout(pad=0.1)\n",
    "\n",
    "        # Bounding Boxes\n",
    "        boxes_tensor = results[0].boxes.xyxy\n",
    "        bounding_boxes = boxes_tensor.cpu().tolist()\n",
    "        for box in bounding_boxes:\n",
    "            min_x, min_y, max_x, max_y = box\n",
    "            rect = plt.Rectangle(\n",
    "                (min_x, min_y),\n",
    "                max_x - min_x,\n",
    "                max_y - min_y,\n",
    "                fill=False, \n",
    "                edgecolor='red', \n",
    "                linewidth=2\n",
    "            )\n",
    "            plt.gca().add_patch(rect)\n",
    "        plt.gca().invert_yaxis()\n",
    "        frames[f+1] = bounding_boxes\n",
    "\n",
    "        # Tracking\n",
    "        current_boxes = frames[f+1]\n",
    "        previous_boxes = frames[f]\n",
    "    \n",
    "        previous_similar_boxes = copy.deepcopy(similar_boxes)\n",
    "        for i, current_box in enumerate(current_boxes):\n",
    "            similar_boxes_last = [j[-1] for j in similar_boxes]\n",
    "            current_new = 1\n",
    "            for j, bbox in enumerate(similar_boxes_last):\n",
    "                try:\n",
    "                    if abs(bbox[0] - current_box[0]) <= 4 or abs(bbox[2] - current_box[2]) <= 4:\n",
    "                        similar_boxes[j] += [current_box]\n",
    "                        current_new = 0\n",
    "                except:\n",
    "                    current_new = 1\n",
    "            if current_new==1:\n",
    "                similar_boxes += [[current_box]]\n",
    "        \n",
    "        for i in range(len(previous_similar_boxes)):\n",
    "            if previous_similar_boxes[i] == similar_boxes[i]:\n",
    "                try:\n",
    "                    prev_height = similar_boxes[i][-2][3] - similar_boxes[i][-2][1]\n",
    "                    current_height = similar_boxes[i][-1][3] - similar_boxes[i][-1][1]\n",
    "                    if current_height >= prev_height:\n",
    "                        similar_boxes[i] = \"IN\"\n",
    "                    elif current_height < prev_height:\n",
    "                        similar_boxes[i] = \"OUT\"\n",
    "                except:\n",
    "                    if similar_boxes[i] != \"IN\" and similar_boxes[i] != \"OUT\":\n",
    "                        similar_boxes[i] = \"NONE\"\n",
    "\n",
    "        # Print results\n",
    "        result_text = []\n",
    "        for i in range(len(similar_boxes)):\n",
    "            if similar_boxes[i] == 'IN' or similar_boxes[i] == 'OUT':\n",
    "                result_text += [f\"Object {i}: {similar_boxes[i]}\\n\"]\n",
    "            elif similar_boxes[i] != 'NONE':\n",
    "                result_text += [f\"Object {i}: DETECT\\n\"]\n",
    "        result_texts = \"\\n\".join(result_text)\n",
    "        plt.text(0.02, 0.95, result_texts, fontsize=18, fontweight='bold', color='red', ha='left', va='top')\n",
    "        \n",
    "        # for i, bbox in enumerate(bounding_boxes):\n",
    "        #     if bbox[-2] > 0.1:\n",
    "        #         # print(f\"Cluster {i} centers: {cluster_centers[i]}\")\n",
    "        #         print(f\"Cluster {i}: {bbox}\")\n",
    "    \n",
    "        # for i in range(len(similar_boxes)):\n",
    "        #     if similar_boxes[i] != 'NONE':\n",
    "        #         print(f\"Object {i}: {similar_boxes[i]}\")\n",
    "\n",
    "    for f in range(len(all_files), (int(len(all_files)/(5.00001))+1)*5):\n",
    "        axes[f].axis('off')\n",
    "        plt.tight_layout(pad=0.1)\n",
    "\n",
    "    return fig"
   ]
  },
  {
   "cell_type": "code",
   "execution_count": null,
   "id": "d7ec1ca0-94a5-4cd3-9de4-529bd71d2479",
   "metadata": {},
   "outputs": [],
   "source": [
    "%%time\n",
    "all_folders = glob.glob(address+'all_class/*')\n",
    "fig_tracking_in = Tracking(all_folders[0]+'/*.png')"
   ]
  },
  {
   "cell_type": "code",
   "execution_count": null,
   "id": "585c1ba6-46d2-4475-9621-fea7952ff2b2",
   "metadata": {},
   "outputs": [],
   "source": [
    "%%time\n",
    "fig_tracking_in = Tracking(all_folders[1]+'/*.png')"
   ]
  },
  {
   "cell_type": "code",
   "execution_count": null,
   "id": "a2d2f085-d833-410e-bf01-abe3ed297eb8",
   "metadata": {},
   "outputs": [],
   "source": [
    "fig_tracking_in = Tracking(all_folders[2]+'/*.png')"
   ]
  },
  {
   "cell_type": "code",
   "execution_count": null,
   "id": "033da26b-15d1-4cc9-b96e-de0a8e86f64b",
   "metadata": {},
   "outputs": [],
   "source": [
    "fig_tracking_in = Tracking(all_folders[3]+'/*.png')"
   ]
  },
  {
   "cell_type": "code",
   "execution_count": null,
   "id": "80a6be49-ce61-4e0e-b157-7879c9d835c0",
   "metadata": {},
   "outputs": [],
   "source": [
    "fig_tracking_in = Tracking(all_folders[4]+'/*.png')"
   ]
  },
  {
   "cell_type": "code",
   "execution_count": null,
   "id": "e43faef7-2c6b-4701-b344-d230dff3513d",
   "metadata": {},
   "outputs": [],
   "source": [
    "fig_tracking_in = Tracking(all_folders[5]+'/*.png')"
   ]
  },
  {
   "cell_type": "code",
   "execution_count": null,
   "id": "21dc5071-e046-43fd-8cdf-f0ff7fd43bf2",
   "metadata": {},
   "outputs": [],
   "source": [
    "fig_tracking_in = Tracking(all_folders[6]+'/*.png')"
   ]
  },
  {
   "cell_type": "code",
   "execution_count": null,
   "id": "ffd7c6ab-1508-44c9-b8f2-f4b3c8633fa3",
   "metadata": {},
   "outputs": [],
   "source": [
    "fig_tracking_in = Tracking(all_folders[7]+'/*.png')"
   ]
  },
  {
   "cell_type": "code",
   "execution_count": null,
   "id": "e4d3dd31-1ebc-4733-a15a-62c4fc8c7e3f",
   "metadata": {},
   "outputs": [],
   "source": [
    "fig_tracking_in = Tracking(all_folders[8]+'/*.png')"
   ]
  },
  {
   "cell_type": "code",
   "execution_count": null,
   "id": "53fca9a9-9d0d-4ec2-8de5-314dd21fa475",
   "metadata": {},
   "outputs": [],
   "source": [
    "fig_tracking_in = Tracking(all_folders[9]+'/*.png')"
   ]
  },
  {
   "cell_type": "code",
   "execution_count": null,
   "id": "41ddbf54-c089-4efb-80bd-e9a281499601",
   "metadata": {},
   "outputs": [],
   "source": [
    "fig_tracking_in = Tracking(all_folders[10]+'/*.png')"
   ]
  },
  {
   "cell_type": "code",
   "execution_count": null,
   "id": "c28c7d38-c589-4d3f-87df-468aa7b78128",
   "metadata": {},
   "outputs": [],
   "source": [
    "fig_tracking_in = Tracking(all_folders[11]+'/*.png')"
   ]
  },
  {
   "cell_type": "code",
   "execution_count": null,
   "id": "7c7a3e59-500b-4f71-822c-413881470200",
   "metadata": {},
   "outputs": [],
   "source": [
    "fig_tracking_in = Tracking(all_folders[12]+'/*.png')"
   ]
  },
  {
   "cell_type": "code",
   "execution_count": null,
   "id": "5c02bfff-546a-480f-b864-274cff5a7d52",
   "metadata": {},
   "outputs": [],
   "source": [
    "fig_tracking_in = Tracking(all_folders[13]+'/*.png')"
   ]
  },
  {
   "cell_type": "code",
   "execution_count": null,
   "id": "d347fa3b-7a46-4558-8da2-37b5b9f7317d",
   "metadata": {},
   "outputs": [],
   "source": [
    "fig_tracking_in = Tracking(all_folders[14]+'/*.png')"
   ]
  },
  {
   "cell_type": "code",
   "execution_count": null,
   "id": "3dac1f59-4cbd-4d79-8421-fa4bbb9d0ab1",
   "metadata": {},
   "outputs": [],
   "source": [
    "fig_tracking_in = Tracking(all_folders[15]+'/*.png')"
   ]
  },
  {
   "cell_type": "code",
   "execution_count": null,
   "id": "322849e7-b304-4205-ba16-bb61f8d39bfb",
   "metadata": {},
   "outputs": [],
   "source": [
    "fig_tracking_in = Tracking(all_folders[16]+'/*.png')"
   ]
  },
  {
   "cell_type": "code",
   "execution_count": null,
   "id": "0d30b165-f37b-43ea-9476-8821548a2d01",
   "metadata": {},
   "outputs": [],
   "source": [
    "fig_tracking_in = Tracking(all_folders[17]+'/*.png')"
   ]
  },
  {
   "cell_type": "code",
   "execution_count": null,
   "id": "4c3a43ef-5d82-4aca-8099-2bee0c9a2e72",
   "metadata": {},
   "outputs": [],
   "source": [
    "fig_tracking_in = Tracking(all_folders[18]+'/*.png')"
   ]
  },
  {
   "cell_type": "code",
   "execution_count": null,
   "id": "6eddbb1c-4dc8-406e-9b1e-3233b7f146b0",
   "metadata": {},
   "outputs": [],
   "source": [
    "fig_tracking_in = Tracking(all_folders[19]+'/*.png')"
   ]
  },
  {
   "cell_type": "code",
   "execution_count": null,
   "id": "ba48f35a-13ab-4c67-9f34-511d959d907b",
   "metadata": {},
   "outputs": [],
   "source": [
    "fig_tracking_in = Tracking(all_folders[20]+'/*.png')"
   ]
  },
  {
   "cell_type": "code",
   "execution_count": null,
   "id": "a6719611-2011-4e3b-9f16-2981d5f68f16",
   "metadata": {},
   "outputs": [],
   "source": [
    "fig_tracking_in = Tracking(all_folders[21]+'/*.png')"
   ]
  },
  {
   "cell_type": "code",
   "execution_count": null,
   "id": "b45fa063-9474-4913-bf7b-1881abc8b580",
   "metadata": {},
   "outputs": [],
   "source": [
    "fig_tracking_in = Tracking(all_folders[22]+'/*.png')"
   ]
  },
  {
   "cell_type": "code",
   "execution_count": null,
   "id": "1e0510e0-1418-418b-a120-7bcc1245b8b4",
   "metadata": {},
   "outputs": [],
   "source": [
    "fig_tracking_in = Tracking(all_folders[23]+'/*.png')"
   ]
  },
  {
   "cell_type": "code",
   "execution_count": null,
   "id": "dc388c66-95c4-4a59-b194-c41924779a38",
   "metadata": {},
   "outputs": [],
   "source": [
    "fig_tracking_in = Tracking(all_folders[24]+'/*.png')"
   ]
  },
  {
   "cell_type": "code",
   "execution_count": null,
   "id": "b95faa55-f40b-43ab-a3c0-9ba74aa210f1",
   "metadata": {},
   "outputs": [],
   "source": [
    "fig_tracking_in = Tracking(all_folders[25]+'/*.png')"
   ]
  },
  {
   "cell_type": "code",
   "execution_count": null,
   "id": "08ef37a6-150c-41f0-afd5-76e24b5c8a93",
   "metadata": {},
   "outputs": [],
   "source": [
    "fig_tracking_in = Tracking(all_folders[26]+'/*.png')"
   ]
  },
  {
   "cell_type": "code",
   "execution_count": null,
   "id": "bb15a6d7-a71e-4ea9-85e3-9107b2a379a0",
   "metadata": {},
   "outputs": [],
   "source": [
    "fig_tracking_in = Tracking(all_folders[27]+'/*.png')"
   ]
  },
  {
   "cell_type": "code",
   "execution_count": null,
   "id": "ae518097-4a25-49d7-b2f3-abe40067dbf0",
   "metadata": {},
   "outputs": [],
   "source": [
    "fig_tracking_in = Tracking(all_folders[28]+'/*.png')"
   ]
  },
  {
   "cell_type": "code",
   "execution_count": null,
   "id": "034636f9-8eea-46fd-a355-1d535329e6e5",
   "metadata": {},
   "outputs": [],
   "source": [
    "fig_tracking_in = Tracking(all_folders[29]+'/*.png')"
   ]
  },
  {
   "cell_type": "code",
   "execution_count": null,
   "id": "d0dd07b0-2462-4e24-9d05-18ee050be358",
   "metadata": {},
   "outputs": [],
   "source": [
    "fig_tracking_in = Tracking(all_folders[30]+'/*.png')"
   ]
  },
  {
   "cell_type": "code",
   "execution_count": null,
   "id": "f9725752-0882-47b0-8cb9-c1672e42586e",
   "metadata": {},
   "outputs": [],
   "source": []
  }
 ],
 "metadata": {
  "kernelspec": {
   "display_name": "Python 3 (ipykernel)",
   "language": "python",
   "name": "python3"
  },
  "language_info": {
   "codemirror_mode": {
    "name": "ipython",
    "version": 3
   },
   "file_extension": ".py",
   "mimetype": "text/x-python",
   "name": "python",
   "nbconvert_exporter": "python",
   "pygments_lexer": "ipython3",
   "version": "3.12.2"
  }
 },
 "nbformat": 4,
 "nbformat_minor": 5
}
